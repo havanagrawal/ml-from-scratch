{
 "cells": [
  {
   "cell_type": "code",
   "execution_count": 1,
   "metadata": {
    "ExecuteTime": {
     "end_time": "2018-05-31T00:44:43.806733Z",
     "start_time": "2018-05-31T00:44:42.494283Z"
    }
   },
   "outputs": [],
   "source": [
    "import numpy as np\n",
    "\n",
    "from sklearn.metrics import confusion_matrix, f1_score, accuracy_score\n",
    "from sklearn.linear_model import SGDClassifier\n",
    "\n",
    "from sklearn.model_selection import GridSearchCV\n",
    "\n",
    "import seaborn as sns\n",
    "sns.set()\n",
    "\n",
    "%matplotlib inline\n",
    "import matplotlib.pyplot as plt\n",
    "\n",
    "from classifiers import FGMClassifier\n",
    "import datasets"
   ]
  },
  {
   "cell_type": "code",
   "execution_count": 2,
   "metadata": {
    "ExecuteTime": {
     "end_time": "2018-05-31T00:44:44.196929Z",
     "start_time": "2018-05-31T00:44:43.809464Z"
    }
   },
   "outputs": [],
   "source": [
    "X_train, X_test, y_train, y_test = datasets.load_imagenet()"
   ]
  },
  {
   "cell_type": "code",
   "execution_count": 3,
   "metadata": {
    "ExecuteTime": {
     "end_time": "2018-05-31T00:44:44.202673Z",
     "start_time": "2018-05-31T00:44:44.199305Z"
    }
   },
   "outputs": [],
   "source": [
    "from collections import namedtuple"
   ]
  },
  {
   "cell_type": "code",
   "execution_count": 4,
   "metadata": {
    "ExecuteTime": {
     "end_time": "2018-05-31T00:44:44.210279Z",
     "start_time": "2018-05-31T00:44:44.205277Z"
    }
   },
   "outputs": [],
   "source": [
    "Metrics = namedtuple('Metrics', ['cm', 'f1_macro', 'f1_micro', 'accuracy'])"
   ]
  },
  {
   "cell_type": "markdown",
   "metadata": {},
   "source": [
    "## Untuned Models - Comparison"
   ]
  },
  {
   "cell_type": "code",
   "execution_count": 5,
   "metadata": {
    "ExecuteTime": {
     "end_time": "2018-05-31T00:44:44.216486Z",
     "start_time": "2018-05-31T00:44:44.212453Z"
    }
   },
   "outputs": [],
   "source": [
    "def train_evaluate(clf):\n",
    "    clf.fit(X_train, y_train)\n",
    "    y_pred = clf.predict(X_test)\n",
    "    cm = confusion_matrix(y_test, y_pred)\n",
    "    f1_mac = f1_score(y_test, y_pred, average='macro')\n",
    "    f1_mic = f1_score(y_test, y_pred, average='micro')\n",
    "    acc = accuracy_score(y_test, y_pred)\n",
    "    \n",
    "    return Metrics(cm, f1_mac, f1_mic, acc)"
   ]
  },
  {
   "cell_type": "markdown",
   "metadata": {},
   "source": [
    "### FGMClassifier"
   ]
  },
  {
   "cell_type": "code",
   "execution_count": 6,
   "metadata": {
    "ExecuteTime": {
     "end_time": "2018-05-31T00:44:44.222873Z",
     "start_time": "2018-05-31T00:44:44.218529Z"
    }
   },
   "outputs": [],
   "source": [
    "clf = FGMClassifier(classifier='svm', max_iter=50)"
   ]
  },
  {
   "cell_type": "code",
   "execution_count": 7,
   "metadata": {
    "ExecuteTime": {
     "end_time": "2018-05-31T00:47:08.270541Z",
     "start_time": "2018-05-31T00:44:44.225517Z"
    }
   },
   "outputs": [],
   "source": [
    "metrics = train_evaluate(clf)\n",
    "cm, f1_macro, f1_micro, accuracy = metrics"
   ]
  },
  {
   "cell_type": "code",
   "execution_count": 8,
   "metadata": {
    "ExecuteTime": {
     "end_time": "2018-05-31T00:47:08.289949Z",
     "start_time": "2018-05-31T00:47:08.276310Z"
    }
   },
   "outputs": [
    {
     "data": {
      "text/plain": [
       "array([[85,  2,  2,  3,  3,  0,  5,  0,  0,  0],\n",
       "       [ 1, 80,  5,  3,  4,  4,  1,  0,  1,  1],\n",
       "       [ 1,  4, 81,  3,  5,  4,  0,  1,  1,  0],\n",
       "       [ 0, 13,  2, 62,  2,  1, 17,  1,  0,  2],\n",
       "       [ 2,  4,  9,  0, 66, 12,  3,  1,  1,  2],\n",
       "       [ 2,  3,  7,  1,  4, 83,  0,  0,  0,  0],\n",
       "       [ 5,  3,  1, 16,  2,  2, 66,  2,  1,  2],\n",
       "       [ 1,  2,  0,  1,  1,  1,  3, 73,  9,  9],\n",
       "       [ 0,  0,  1,  1,  2,  0,  0,  4, 89,  3],\n",
       "       [ 0,  2,  0,  2,  2,  0,  0,  9,  8, 77]])"
      ]
     },
     "execution_count": 8,
     "metadata": {},
     "output_type": "execute_result"
    }
   ],
   "source": [
    "cm"
   ]
  },
  {
   "cell_type": "code",
   "execution_count": 9,
   "metadata": {
    "ExecuteTime": {
     "end_time": "2018-05-31T00:47:08.454476Z",
     "start_time": "2018-05-31T00:47:08.294411Z"
    }
   },
   "outputs": [
    {
     "data": {
      "text/plain": [
       "(0.7606483518141344, 0.762, 0.762)"
      ]
     },
     "execution_count": 9,
     "metadata": {},
     "output_type": "execute_result"
    }
   ],
   "source": [
    "f1_macro, f1_micro, accuracy"
   ]
  },
  {
   "cell_type": "markdown",
   "metadata": {},
   "source": [
    "### sklearn's SGDClassifier"
   ]
  },
  {
   "cell_type": "code",
   "execution_count": 10,
   "metadata": {
    "ExecuteTime": {
     "end_time": "2018-05-31T00:47:08.481658Z",
     "start_time": "2018-05-31T00:47:08.456716Z"
    }
   },
   "outputs": [],
   "source": [
    "clf = SGDClassifier(max_iter=100)"
   ]
  },
  {
   "cell_type": "code",
   "execution_count": 11,
   "metadata": {
    "ExecuteTime": {
     "end_time": "2018-05-31T00:47:35.837081Z",
     "start_time": "2018-05-31T00:47:08.483953Z"
    }
   },
   "outputs": [],
   "source": [
    "metrics = train_evaluate(clf)\n",
    "cm, f1_macro, f1_micro, accuracy = metrics"
   ]
  },
  {
   "cell_type": "code",
   "execution_count": 12,
   "metadata": {
    "ExecuteTime": {
     "end_time": "2018-05-31T00:47:35.846375Z",
     "start_time": "2018-05-31T00:47:35.839203Z"
    }
   },
   "outputs": [
    {
     "data": {
      "text/plain": [
       "array([[87,  2,  2,  1,  3,  0,  5,  0,  0,  0],\n",
       "       [ 2, 77,  5,  5,  3,  5,  0,  2,  0,  1],\n",
       "       [ 0,  6, 72,  6,  7,  7,  0,  1,  1,  0],\n",
       "       [ 2,  7,  0, 62,  2,  2, 17,  4,  1,  3],\n",
       "       [ 5,  4,  9,  0, 71,  4,  2,  2,  2,  1],\n",
       "       [ 3,  3, 10,  1,  3, 80,  0,  0,  0,  0],\n",
       "       [ 5,  6,  1, 14,  2,  2, 65,  3,  1,  1],\n",
       "       [ 0,  1,  0,  1,  0,  1,  2, 73, 14,  8],\n",
       "       [ 0,  0,  1,  1,  2,  0,  0,  2, 92,  2],\n",
       "       [ 0,  2,  0,  2,  5,  0,  0, 14,  6, 71]])"
      ]
     },
     "execution_count": 12,
     "metadata": {},
     "output_type": "execute_result"
    }
   ],
   "source": [
    "cm"
   ]
  },
  {
   "cell_type": "code",
   "execution_count": 13,
   "metadata": {
    "ExecuteTime": {
     "end_time": "2018-05-31T00:47:35.861898Z",
     "start_time": "2018-05-31T00:47:35.852086Z"
    }
   },
   "outputs": [
    {
     "data": {
      "text/plain": [
       "(0.7483285443663006, 0.75, 0.75)"
      ]
     },
     "execution_count": 13,
     "metadata": {},
     "output_type": "execute_result"
    }
   ],
   "source": [
    "f1_macro, f1_micro, accuracy"
   ]
  },
  {
   "cell_type": "markdown",
   "metadata": {},
   "source": [
    "Clearly, our FGMClassifier performs better than sklearn's SGDClassifier, but is considerably slower. There are multiple reasons for this:\n",
    "\n",
    "1. We look at the entire dataset when calculating the gradient, whereas SGD looks at 1 (or some fixed number) of examples.  \n",
    "2. SGDClassifier uses a OVR (One-Vs-Rest) strategy for multi-class problems, whereas FGMClassifier uses OVO (One-Vs-One).  "
   ]
  },
  {
   "cell_type": "markdown",
   "metadata": {},
   "source": [
    "## Tuned Models - Comparison"
   ]
  },
  {
   "cell_type": "markdown",
   "metadata": {},
   "source": [
    "### FGMClassifier"
   ]
  },
  {
   "cell_type": "code",
   "execution_count": 14,
   "metadata": {
    "ExecuteTime": {
     "end_time": "2018-05-31T00:54:15.816585Z",
     "start_time": "2018-05-31T00:47:35.864391Z"
    }
   },
   "outputs": [
    {
     "name": "stdout",
     "output_type": "stream",
     "text": [
      "Fitting 3 folds for each of 5 candidates, totalling 15 fits\n"
     ]
    },
    {
     "name": "stderr",
     "output_type": "stream",
     "text": [
      "[Parallel(n_jobs=1)]: Done  15 out of  15 | elapsed:  6.0min finished\n"
     ]
    }
   ],
   "source": [
    "param_grid = {\n",
    "    'lmbda': np.linspace(0, 1, 5)\n",
    "}\n",
    "clf = GridSearchCV(FGMClassifier(classifier='svm', max_iter=10), param_grid, verbose=1)\n",
    "metrics = train_evaluate(clf)"
   ]
  },
  {
   "cell_type": "code",
   "execution_count": 15,
   "metadata": {
    "ExecuteTime": {
     "end_time": "2018-05-31T00:54:15.821660Z",
     "start_time": "2018-05-31T00:54:15.818651Z"
    }
   },
   "outputs": [],
   "source": [
    "cm, f1_macro, f1_micro, accuracy = metrics"
   ]
  },
  {
   "cell_type": "code",
   "execution_count": 16,
   "metadata": {
    "ExecuteTime": {
     "end_time": "2018-05-31T00:54:15.832467Z",
     "start_time": "2018-05-31T00:54:15.823994Z"
    }
   },
   "outputs": [
    {
     "data": {
      "text/plain": [
       "array([[84,  2,  2,  3,  2,  0,  7,  0,  0,  0],\n",
       "       [ 1, 77,  7,  2,  5,  5,  1,  0,  1,  1],\n",
       "       [ 1,  4, 80,  4,  5,  4,  0,  1,  1,  0],\n",
       "       [ 0, 12,  3, 62,  2,  1, 15,  2,  1,  2],\n",
       "       [ 2,  4,  8,  0, 68, 11,  3,  1,  1,  2],\n",
       "       [ 2,  3,  6,  1,  4, 84,  0,  0,  0,  0],\n",
       "       [ 5,  3,  2, 14,  1,  2, 68,  2,  1,  2],\n",
       "       [ 1,  1,  0,  1,  1,  1,  3, 74,  9,  9],\n",
       "       [ 0,  0,  1,  1,  2,  0,  0,  3, 89,  4],\n",
       "       [ 1,  2,  0,  2,  1,  0,  0, 11,  7, 76]])"
      ]
     },
     "execution_count": 16,
     "metadata": {},
     "output_type": "execute_result"
    }
   ],
   "source": [
    "cm"
   ]
  },
  {
   "cell_type": "code",
   "execution_count": 17,
   "metadata": {
    "ExecuteTime": {
     "end_time": "2018-05-31T00:54:15.839311Z",
     "start_time": "2018-05-31T00:54:15.834582Z"
    }
   },
   "outputs": [
    {
     "data": {
      "text/plain": [
       "(0.7607463683836148, 0.762, 0.762)"
      ]
     },
     "execution_count": 17,
     "metadata": {},
     "output_type": "execute_result"
    }
   ],
   "source": [
    "f1_macro, f1_micro, accuracy"
   ]
  },
  {
   "cell_type": "markdown",
   "metadata": {},
   "source": [
    "### sklearn's SGDClassifier"
   ]
  },
  {
   "cell_type": "code",
   "execution_count": 18,
   "metadata": {
    "ExecuteTime": {
     "end_time": "2018-05-31T00:55:18.236082Z",
     "start_time": "2018-05-31T00:54:15.841354Z"
    }
   },
   "outputs": [
    {
     "name": "stdout",
     "output_type": "stream",
     "text": [
      "Fitting 3 folds for each of 10 candidates, totalling 30 fits\n"
     ]
    },
    {
     "name": "stderr",
     "output_type": "stream",
     "text": [
      "[Parallel(n_jobs=1)]: Done  30 out of  30 | elapsed:   59.3s finished\n"
     ]
    }
   ],
   "source": [
    "param_grid = {\n",
    "    'alpha': np.logspace(-5, 0, 10)\n",
    "}\n",
    "clf = GridSearchCV(SGDClassifier(max_iter=10), param_grid, verbose=1)\n",
    "metrics = train_evaluate(clf)"
   ]
  },
  {
   "cell_type": "code",
   "execution_count": 19,
   "metadata": {
    "ExecuteTime": {
     "end_time": "2018-05-31T00:55:18.241246Z",
     "start_time": "2018-05-31T00:55:18.238248Z"
    }
   },
   "outputs": [],
   "source": [
    "cm, f1_macro, f1_micro, accuracy = metrics"
   ]
  },
  {
   "cell_type": "code",
   "execution_count": 20,
   "metadata": {
    "ExecuteTime": {
     "end_time": "2018-05-31T00:55:18.251535Z",
     "start_time": "2018-05-31T00:55:18.243842Z"
    }
   },
   "outputs": [
    {
     "data": {
      "text/plain": [
       "(0.7411136242582061, 0.743, 0.743)"
      ]
     },
     "execution_count": 20,
     "metadata": {},
     "output_type": "execute_result"
    }
   ],
   "source": [
    "f1_macro, f1_micro, accuracy"
   ]
  },
  {
   "cell_type": "markdown",
   "metadata": {},
   "source": [
    "The FGMClassifier still has better performance."
   ]
  }
 ],
 "metadata": {
  "kernelspec": {
   "display_name": "Python 3",
   "language": "python",
   "name": "python3"
  },
  "language_info": {
   "codemirror_mode": {
    "name": "ipython",
    "version": 3
   },
   "file_extension": ".py",
   "mimetype": "text/x-python",
   "name": "python",
   "nbconvert_exporter": "python",
   "pygments_lexer": "ipython3",
   "version": "3.6.4"
  }
 },
 "nbformat": 4,
 "nbformat_minor": 2
}
